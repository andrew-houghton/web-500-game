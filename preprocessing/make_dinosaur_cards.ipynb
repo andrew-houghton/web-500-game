{
 "cells": [
  {
   "cell_type": "markdown",
   "metadata": {},
   "source": [
    "## Make dinosaur cards"
   ]
  },
  {
   "cell_type": "code",
   "execution_count": null,
   "metadata": {},
   "outputs": [],
   "source": [
    "import PIL\n",
    "from PIL import Image\n",
    "import numpy as np\n",
    "from glob import glob\n",
    "import re\n",
    "import os\n",
    "from PIL import ImageOps\n",
    "from io import BytesIO\n",
    "import base64"
   ]
  },
  {
   "cell_type": "markdown",
   "metadata": {},
   "source": [
    "## Get properties about the cards"
   ]
  },
  {
   "cell_type": "code",
   "execution_count": null,
   "metadata": {},
   "outputs": [],
   "source": [
    "card_path_str = './better_cards/'\n",
    "path_to_cards = glob(card_path_str+'*.png')"
   ]
  },
  {
   "cell_type": "code",
   "execution_count": null,
   "metadata": {},
   "outputs": [],
   "source": [
    "BORDER_WIDTH = 30\n",
    "CORNER_HEIGHT = 250\n",
    "CORNER_WIDTH = 78\n",
    "OUTPUT_SIZE = (338//3,489//3)"
   ]
  },
  {
   "cell_type": "code",
   "execution_count": null,
   "metadata": {},
   "outputs": [],
   "source": [
    "back = Image.open(card_path_str + 'green_back.png')\n",
    "CARD_SIZE = back.size\n",
    "SHORT_SIDE = CARD_SIZE[0]\n",
    "LONG_SIDE = CARD_SIZE[1]\n",
    "PROPORTIONS = back.size[0]/back.size[1]"
   ]
  },
  {
   "cell_type": "markdown",
   "metadata": {},
   "source": [
    "## Utility functions"
   ]
  },
  {
   "cell_type": "code",
   "execution_count": null,
   "metadata": {},
   "outputs": [],
   "source": [
    "def remove_card_icon(card, leave_value=True):\n",
    "    if leave_value:\n",
    "        width = CORNER_WIDTH\n",
    "        height = CORNER_HEIGHT\n",
    "    else:\n",
    "        height=0\n",
    "        width=0\n",
    "    replacement_dimensions = (LONG_SIDE-height-2*BORDER_WIDTH, SHORT_SIDE-width-2*BORDER_WIDTH, 3)\n",
    "    card[BORDER_WIDTH+height:-BORDER_WIDTH, BORDER_WIDTH:-width-BORDER_WIDTH, 0:3] = np.ones(replacement_dimensions)*255\n",
    "    card[BORDER_WIDTH:-height-BORDER_WIDTH, BORDER_WIDTH+width:-BORDER_WIDTH, 0:3] = np.ones(replacement_dimensions)*255\n",
    "\n",
    "    return card"
   ]
  },
  {
   "cell_type": "code",
   "execution_count": null,
   "metadata": {},
   "outputs": [],
   "source": [
    "def get_boring_card_as_np(path):\n",
    "    raw_card = Image.open(path)\n",
    "    raw_card = raw_card.convert('RGBA')\n",
    "    if raw_card.size != CARD_SIZE:\n",
    "        raw_card = raw_card.resize(CARD_SIZE)\n",
    "    np_card = np.asarray(raw_card).copy()\n",
    "    return np_card"
   ]
  },
  {
   "cell_type": "code",
   "execution_count": null,
   "metadata": {},
   "outputs": [],
   "source": [
    "def get_corresponding_dino(card_path):\n",
    "    card_value_pattern = '.*/(?P<value>.*)(?P<suit>[A-Z])\\.png'\n",
    "    regex_result = re.search(card_value_pattern, card_path)\n",
    "    \n",
    "    if not regex_result:\n",
    "        return None\n",
    "    \n",
    "    value = regex_result.group('value')\n",
    "    dino_path = f\"./dino_source/d{value}.png\"\n",
    "    dino = Image.open(dino_path)\n",
    "    return dino"
   ]
  },
  {
   "cell_type": "code",
   "execution_count": null,
   "metadata": {},
   "outputs": [],
   "source": [
    "def shape_to_fit(image):\n",
    "    # resize to square in short dimension\n",
    "    image = image.resize((SHORT_SIDE-2*CORNER_WIDTH, SHORT_SIDE-2*CORNER_WIDTH))\n",
    "    \n",
    "    # pad with white\n",
    "    replacement_dimensions = (SHORT_SIDE-2*CORNER_WIDTH, LONG_SIDE-2*CORNER_HEIGHT)\n",
    "    image_shaped = ImageOps.pad(image, replacement_dimensions, color=(255,255,255))\n",
    "\n",
    "    return image_shaped"
   ]
  },
  {
   "cell_type": "markdown",
   "metadata": {},
   "source": [
    "## Make a card back"
   ]
  },
  {
   "cell_type": "code",
   "execution_count": null,
   "metadata": {},
   "outputs": [],
   "source": [
    "def make_card_size(im):\n",
    "    im = im.crop((0, 0, im.size[0]*PROPORTIONS, im.size[0]))\n",
    "    im = im.convert('RGBA')\n",
    "    return im.resize(CARD_SIZE) "
   ]
  },
  {
   "cell_type": "markdown",
   "metadata": {},
   "source": [
    "We create a card template. This is transparent around the outside of the card, and white inside the card. Non-white pixels are the border."
   ]
  },
  {
   "cell_type": "code",
   "execution_count": null,
   "metadata": {},
   "outputs": [],
   "source": [
    "new_card_np = get_boring_card_as_np(card_path_str+'2S.png')\n",
    "card_template = remove_card_icon(new_card_np, leave_value=False)"
   ]
  },
  {
   "cell_type": "markdown",
   "metadata": {},
   "source": [
    "This template can be used to add a border to any card"
   ]
  },
  {
   "cell_type": "code",
   "execution_count": null,
   "metadata": {},
   "outputs": [],
   "source": [
    "def add_border(np_im):\n",
    "    np_im[card_template[:, :, 2]<255, 0] = 0\n",
    "    np_im[card_template[:, :, 2]<255, 1] = 0\n",
    "    np_im[card_template[:, :, 2]<255, 2] = 0\n",
    "    return np_im"
   ]
  },
  {
   "cell_type": "markdown",
   "metadata": {},
   "source": [
    "To make our card back, we start with the full image of the dino scene, and we re-size and crop until it matches the card size. "
   ]
  },
  {
   "cell_type": "code",
   "execution_count": null,
   "metadata": {},
   "outputs": [],
   "source": [
    "dino_back = Image.open('./dino_source/background.jpg')\n",
    "dino_back_scaled = make_card_size(dino_back)\n",
    "dino_back_np = np.asarray(dino_back_scaled).copy()"
   ]
  },
  {
   "cell_type": "markdown",
   "metadata": {},
   "source": [
    "Now we take our dino pattern, and make the edges transparent, in the same way as the template."
   ]
  },
  {
   "cell_type": "code",
   "execution_count": null,
   "metadata": {},
   "outputs": [],
   "source": [
    "dino_back_np[card_template[:, :, 3]==0, 3] = 0"
   ]
  },
  {
   "cell_type": "markdown",
   "metadata": {},
   "source": [
    "Now we get all the border pixels and colour them black. "
   ]
  },
  {
   "cell_type": "code",
   "execution_count": null,
   "metadata": {},
   "outputs": [],
   "source": [
    "dino_back_np = add_border(dino_back_np)"
   ]
  },
  {
   "cell_type": "markdown",
   "metadata": {},
   "source": [
    "## Make a joker"
   ]
  },
  {
   "cell_type": "code",
   "execution_count": null,
   "metadata": {},
   "outputs": [],
   "source": [
    "joker_base = Image.open('./better_cards/joker.png')\n",
    "joker_np = np.asarray(joker_base).copy()\n",
    "\n",
    "joker_dino = Image.open('./dino_source/dred.png')\n",
    "joker_dino = shape_to_fit(joker_dino)\n",
    "joker_dino = np.asarray(joker_dino).copy()"
   ]
  },
  {
   "cell_type": "code",
   "execution_count": null,
   "metadata": {},
   "outputs": [],
   "source": [
    "joker_np[CORNER_HEIGHT:-CORNER_HEIGHT, CORNER_WIDTH:-CORNER_WIDTH, :] = joker_dino\n",
    "joker_np = add_border(joker_np)"
   ]
  },
  {
   "cell_type": "code",
   "execution_count": null,
   "metadata": {},
   "outputs": [],
   "source": [
    "joker_card = Image.fromarray(joker_np)"
   ]
  },
  {
   "cell_type": "markdown",
   "metadata": {},
   "source": [
    "## Convert all the card fronts"
   ]
  },
  {
   "cell_type": "code",
   "execution_count": null,
   "metadata": {},
   "outputs": [],
   "source": [
    "def new_file_name(old_file_name):\n",
    "    card_value_pattern = '.*/(?P<value>.*)(?P<suit>[A-Z])\\.png'\n",
    "    regex_result = re.search(card_value_pattern, old_file_name)\n",
    "    \n",
    "    if regex_result is None:\n",
    "        return old_file_name\n",
    "\n",
    "    value = regex_result.group('value')\n",
    "    suit = regex_result.group('suit')\n",
    "    \n",
    "    suit_map = {'S': 'spade', 'D': 'diamond', 'H': 'heart', 'C': 'club'}\n",
    "    value_map = {'J': 'jack', 'Q': 'queen', 'K': 'king', 'A': 'ace'}\n",
    "    \n",
    "    new_name = f\"{suit_map[suit]}_{value_map[value] if value in value_map else value}\"\n",
    "    return new_name"
   ]
  },
  {
   "cell_type": "markdown",
   "metadata": {},
   "source": [
    "## Save all the images to a folder"
   ]
  },
  {
   "cell_type": "code",
   "execution_count": null,
   "metadata": {},
   "outputs": [],
   "source": [
    "for card_path in path_to_cards:\n",
    "    new_card_np = get_boring_card_as_np(card_path)\n",
    "    dino = get_corresponding_dino(card_path)\n",
    "    \n",
    "    if not dino:\n",
    "        continue\n",
    "\n",
    "    new_card = remove_card_icon(new_card_np)\n",
    "    fitted_dino = shape_to_fit(dino)\n",
    "    fitted_dino = fitted_dino.transpose(PIL.Image.FLIP_LEFT_RIGHT)\n",
    "    \n",
    "    new_card[CORNER_HEIGHT:-CORNER_HEIGHT, CORNER_WIDTH:-CORNER_WIDTH, :] = fitted_dino\n",
    "    new_card = add_border(new_card)\n",
    "    final_image = Image.fromarray(new_card)\n",
    "    \n",
    "    final_image.save(f'./dino_output/{new_file_name(card_path)}.png')\n",
    "Image.fromarray(dino_back_np).save('./dino_output/back.png')\n",
    "joker_card.save('./dino_output/joker_red.png')"
   ]
  },
  {
   "cell_type": "markdown",
   "metadata": {},
   "source": [
    "## Save all the images in base 64 format in a js source file"
   ]
  },
  {
   "cell_type": "code",
   "execution_count": null,
   "metadata": {},
   "outputs": [],
   "source": [
    "def write_card(output_file, output_image, card_path):\n",
    "    output_image = output_image.resize(OUTPUT_SIZE)\n",
    "    buffered = BytesIO()\n",
    "    output_image.save(buffered, format=\"PNG\")\n",
    "    b64_str = str(base64.b64encode(buffered.getvalue()))[2:-1]\n",
    "    card_path = card_path.replace(\".png\", \"\")\n",
    "\n",
    "    output_file.write(\"  \")\n",
    "    output_file.write(card_path)\n",
    "    output_file.write(': \"')\n",
    "    output_file.write(b64_str)\n",
    "    output_file.write('\",\\n')"
   ]
  },
  {
   "cell_type": "code",
   "execution_count": null,
   "metadata": {},
   "outputs": [],
   "source": [
    "output_file = open('../static/cardData.js', 'w+')\n",
    "output_file.write(\"var cardData = {\\n\")\n",
    "\n",
    "for card_path in sorted(os.listdir('./dino_output')):\n",
    "    write_card(output_file, Image.open(f'./dino_output/{card_path}'), card_path)\n",
    "\n",
    "output_file.write('}')\n",
    "output_file.close()"
   ]
  }
 ],
 "metadata": {
  "kernelspec": {
   "display_name": "Python 3",
   "language": "python",
   "name": "python3"
  },
  "language_info": {
   "codemirror_mode": {
    "name": "ipython",
    "version": 3
   },
   "file_extension": ".py",
   "mimetype": "text/x-python",
   "name": "python",
   "nbconvert_exporter": "python",
   "pygments_lexer": "ipython3",
   "version": "3.7.1"
  }
 },
 "nbformat": 4,
 "nbformat_minor": 4
}
